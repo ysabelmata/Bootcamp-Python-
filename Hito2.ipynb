{
  "nbformat": 4,
  "nbformat_minor": 0,
  "metadata": {
    "colab": {
      "provenance": [],
      "authorship_tag": "ABX9TyNsyozbbJnu1Fxwl+tYR0iB",
      "include_colab_link": true
    },
    "kernelspec": {
      "name": "python3",
      "display_name": "Python 3"
    },
    "language_info": {
      "name": "python"
    }
  },
  "cells": [
    {
      "cell_type": "markdown",
      "metadata": {
        "id": "view-in-github",
        "colab_type": "text"
      },
      "source": [
        "<a href=\"https://colab.research.google.com/github/ysabelmata/Bootcamp-Python-/blob/main/Hito2.ipynb\" target=\"_parent\"><img src=\"https://colab.research.google.com/assets/colab-badge.svg\" alt=\"Open In Colab\"/></a>"
      ]
    },
    {
      "cell_type": "markdown",
      "source": [
        "Realizar Autenticacion"
      ],
      "metadata": {
        "id": "dU1xXxP0AUAv"
      }
    },
    {
      "cell_type": "code",
      "source": [
        "from google.colab import auth\n",
        "auth.authenticate_user()"
      ],
      "metadata": {
        "id": "ROGdnwULAV3_"
      },
      "execution_count": 2,
      "outputs": []
    },
    {
      "cell_type": "markdown",
      "source": [],
      "metadata": {
        "id": "0SDntCB-BC1G"
      }
    },
    {
      "cell_type": "markdown",
      "source": [
        "Conectar a Bigquery e importar librerias\n"
      ],
      "metadata": {
        "id": "g9jvk-apBVdU"
      }
    },
    {
      "cell_type": "code",
      "source": [
        "from google.cloud import bigquery\n",
        "import pandas as pd"
      ],
      "metadata": {
        "id": "SY_LY64VBZCb"
      },
      "execution_count": 3,
      "outputs": []
    },
    {
      "cell_type": "markdown",
      "source": [
        "Define tu proyecto, dataset y tabla aquí\n"
      ],
      "metadata": {
        "id": "EYWZAoBdCBj4"
      }
    },
    {
      "cell_type": "code",
      "source": [
        "project_id = \"labproyecto2-hipotesis\"\n",
        "dataset = \"Dataset\"\n",
        "table = \"vista_Hipotesis5\""
      ],
      "metadata": {
        "id": "--AzBNd8CCu1"
      },
      "execution_count": 4,
      "outputs": []
    },
    {
      "cell_type": "markdown",
      "source": [
        "Crea un cliente de BigQuery autenticado para el proyecto especificado."
      ],
      "metadata": {
        "id": "3FdwEt6vDEem"
      }
    },
    {
      "cell_type": "code",
      "source": [
        "client = bigquery.Client(project=\"labproyecto2-hipotesis\")"
      ],
      "metadata": {
        "id": "uVPpg1rWDHf8"
      },
      "execution_count": 5,
      "outputs": []
    },
    {
      "cell_type": "markdown",
      "source": [
        "Define una cadena de consulta SQL utilizando una cadena formateada (f-string) de Python."
      ],
      "metadata": {
        "id": "rlirhSXMDvom"
      }
    },
    {
      "cell_type": "code",
      "source": [
        "query = f\"\"\"\n",
        "SELECT *\n",
        "FROM `{\"labproyecto2-hipotesis\"}.{\"Dataset\"}.{\"vista_Hipotesis5\"}`\n",
        "\"\"\""
      ],
      "metadata": {
        "id": "NMUlh1fLDw5Y"
      },
      "execution_count": 6,
      "outputs": []
    },
    {
      "cell_type": "markdown",
      "source": [
        "Ejecutar consulta y convertir resultados en un DataFrame de pandas"
      ],
      "metadata": {
        "id": "mU-rozjDEX1j"
      }
    },
    {
      "cell_type": "code",
      "source": [
        "df = client.query(query).to_dataframe()"
      ],
      "metadata": {
        "id": "po8fUoXaEYx5"
      },
      "execution_count": 7,
      "outputs": []
    },
    {
      "cell_type": "markdown",
      "source": [
        "Mostrar las primeras filas del DataFrame"
      ],
      "metadata": {
        "id": "GW52FCS_El9p"
      }
    },
    {
      "cell_type": "code",
      "source": [
        "print(df.head())"
      ],
      "metadata": {
        "colab": {
          "base_uri": "https://localhost:8080/"
        },
        "id": "MJIGoZswE21G",
        "outputId": "e478ae88-6fea-44be-b900-a24b818c2cc6"
      },
      "execution_count": 8,
      "outputs": [
        {
          "output_type": "stream",
          "name": "stdout",
          "text": [
            "     caracteristica  promedio_bajo  promedio_alto\n",
            "0        cat_acoust   5.084278e+08   5.315170e+08\n",
            "1           cat_bpm   5.109426e+08   5.239727e+08\n",
            "2  cat_danceability   5.441017e+08   4.244953e+08\n",
            "3        cat_energy   5.197791e+08   4.974633e+08\n",
            "4    cat_instrument   5.254246e+08   4.805267e+08\n"
          ]
        }
      ]
    },
    {
      "cell_type": "markdown",
      "source": [
        "Test Z. Cargar paquetes y datos"
      ],
      "metadata": {
        "id": "YDezz_vrQsy9"
      }
    },
    {
      "cell_type": "code",
      "source": [
        "import pandas as pd\n",
        "import numpy as np\n",
        "from statsmodels.stats.proportion import proportions_ztest\n",
        ""
      ],
      "metadata": {
        "id": "m-Cu5n21Q6Y-"
      },
      "execution_count": 9,
      "outputs": []
    },
    {
      "cell_type": "markdown",
      "source": [
        "Paso 1: Definir Hipotesis\n",
        "H0: Hipotesis Nula-- Las diferencia de streams promedio en la categorias son estadisticamente iguales.\n",
        "H1: Hipotesis Alternativa-- La diferencia de streams promedio en la categorias son significativamente diferentes."
      ],
      "metadata": {
        "id": "YBRhRQ8wSCKS"
      }
    },
    {
      "cell_type": "markdown",
      "source": [
        "Paso 2:Elegimos el nivel de confianza que nos da el alfa\n",
        "NC= 95%"
      ],
      "metadata": {
        "id": "99f5-NTKTDar"
      }
    },
    {
      "cell_type": "code",
      "source": [
        "alfa= 0.05"
      ],
      "metadata": {
        "id": "r0J47JFqTKml"
      },
      "execution_count": 10,
      "outputs": []
    },
    {
      "cell_type": "markdown",
      "source": [
        "Paso 3: Calcular el pvalor segun el estadistico de contraste (z sobre dos muestras)"
      ],
      "metadata": {
        "id": "rpnKbVY2TcKu"
      }
    },
    {
      "cell_type": "code",
      "source": [
        "prom_alto_dance=424495305.92\n",
        "prom_bajo_dance=544101735.95\n",
        "tot_streams_alto=485000000000000\n",
        "tot_streams_bajo=485000000000000\n"
      ],
      "metadata": {
        "id": "_EGEkEg4TvSB"
      },
      "execution_count": 13,
      "outputs": []
    },
    {
      "cell_type": "markdown",
      "source": [
        "Lo pasamos a Array porque asi lo pide la funcion\n",
        "--Calculo para Promedio de streams por danceability"
      ],
      "metadata": {
        "id": "qKYYSBbbU_mm"
      }
    },
    {
      "cell_type": "code",
      "source": [
        "array_prom_dance=np.array([prom_alto_dance,prom_bajo_dance])\n",
        "array_tot_streams= np.array([tot_streams_alto,tot_streams_bajo])\n",
        "\n",
        "pvalor = proportions_ztest(count=array_prom_dance, nobs= array_tot_streams)[1]\n",
        "print(f\"{pvalor:.3f}\")"
      ],
      "metadata": {
        "colab": {
          "base_uri": "https://localhost:8080/"
        },
        "id": "QIl1LGQCVqUO",
        "outputId": "5fa696c3-ef07-4da8-c4ba-a61538c3bf39"
      },
      "execution_count": 14,
      "outputs": [
        {
          "output_type": "stream",
          "name": "stdout",
          "text": [
            "0.000\n"
          ]
        }
      ]
    },
    {
      "cell_type": "markdown",
      "source": [
        "Test de Wilcoxon\n",
        "Cargar paquetes y datos"
      ],
      "metadata": {
        "id": "pC-eMd6csXi7"
      }
    },
    {
      "cell_type": "code",
      "source": [
        "import pandas as pd\n",
        "import numpy as np\n",
        "from scipy.stats import wilcoxon"
      ],
      "metadata": {
        "id": "MU920x8RZqIv"
      },
      "execution_count": 1,
      "outputs": []
    },
    {
      "cell_type": "markdown",
      "source": [
        "Paso 1: Definir Hipotesis H0: Hipotesis Nula-- Las diferencia de streams promedio en la categorias son estadisticamente iguales. H1: Hipotesis Alternativa-- La diferencia de streams promedio en la categorias son significativamente diferentes.\n"
      ],
      "metadata": {
        "id": "eI2uUNHMtAii"
      }
    },
    {
      "cell_type": "markdown",
      "source": [
        "Paso 2:Elegimos el nivel de confianza que nos da el alfa NC= 95%"
      ],
      "metadata": {
        "id": "wdSOAutcszLH"
      }
    },
    {
      "cell_type": "code",
      "source": [
        "alfa= 0.05"
      ],
      "metadata": {
        "id": "Q26iP4Wqbl3J"
      },
      "execution_count": 2,
      "outputs": []
    },
    {
      "cell_type": "markdown",
      "source": [
        "Paso 3: Calcular el pvalor segun el estadistico de contraste (Wilcoxon)"
      ],
      "metadata": {
        "id": "CEId7Ra8s7iR"
      }
    },
    {
      "cell_type": "code",
      "source": [
        "# Datos de ejemplo: dos muestras emparejadas Promedio Alto todas las categorias\n",
        "promedio_alto = [424495305.92,488424806.03,480526738.76,531516964.96,497463317.18,412181178.95,467693053.44]\n",
        "total_streams = [100180892198,385224029050,113404310347,125438003732,117401342855,97274758232,110375560612]\n",
        "\n",
        "# Realizar el test de Wilcoxon\n",
        "stat, p = wilcoxon(promedio_alto, total_streams)\n",
        "\n",
        "print('Estadístico de la prueba:', stat)\n",
        "print('Valor p:', p)"
      ],
      "metadata": {
        "colab": {
          "base_uri": "https://localhost:8080/"
        },
        "id": "2I2Lvgicb8AX",
        "outputId": "f9442621-1a19-41cf-adf7-81aa3f056c79"
      },
      "execution_count": 6,
      "outputs": [
        {
          "output_type": "stream",
          "name": "stdout",
          "text": [
            "Estadístico de la prueba: 0.0\n",
            "Valor p: 0.015625\n"
          ]
        }
      ]
    },
    {
      "cell_type": "code",
      "source": [
        "# Datos de ejemplo: dos muestras emparejadas Promedio Bajo todas las categorias\n",
        "promedio_bajo = [544101735.95,522791902.58,525424591.67,508427849.60,519779065.53,548206444.94,529702486.77]\n",
        "total_streams = [385224029050,370136667024,372000610901,359966917517,368003578393,388130163016,375029360636]\n",
        "\n",
        "# Realizar el test de Wilcoxon\n",
        "stat, p = wilcoxon(promedio_alto, total_streams)\n",
        "\n",
        "print('Estadístico de la prueba:', stat)\n",
        "print('Valor p:', p)"
      ],
      "metadata": {
        "colab": {
          "base_uri": "https://localhost:8080/"
        },
        "id": "xhCJqe9aj5gR",
        "outputId": "06adde92-0759-468f-d21c-d7dc0dbe473b"
      },
      "execution_count": 7,
      "outputs": [
        {
          "output_type": "stream",
          "name": "stdout",
          "text": [
            "Estadístico de la prueba: 0.0\n",
            "Valor p: 0.015625\n"
          ]
        }
      ]
    },
    {
      "cell_type": "markdown",
      "source": [
        "Interpretación de los resultados:\n",
        "Estadístico de la prueba de 0.0: Esto sugiere que las diferencias absolutas entre los pares de datos son muy pequeñas, lo que indica que los valores de promedio_bajo son consistentemente menores que los valores correspondientes en total_streams.\n",
        "\n",
        "Valor p de 0.015625: Este valor es menor que 0.05, lo que indica que hay suficiente evidencia para rechazar la hipótesis nula. Esto sugiere que hay una diferencia significativa entre los valores de promedio_bajo y total_streams.\n",
        "\n",
        "Conclusión:\n",
        "Dado que el valor p es menor que 0.05, puedes concluir que hay una diferencia significativa entre el promedio bajo de todas las categorías y el total de streams. Esto significa que los dos conjuntos de datos no provienen de la misma distribución y que la diferencia observada entre ellos no es debida al azar"
      ],
      "metadata": {
        "id": "ZeFQMkHKDXHa"
      }
    },
    {
      "cell_type": "code",
      "source": [
        "# Datos de ejemplo: dos muestras emparejadas Promedio de todas las categorias (solo para verificar nuestra conclusion)\n",
        "promedios_cat = [544101735.95,522791902.58,525424591.67,508427849.60,519779065.53,548206444.94,529702486.77,424495305.92,488424806.03,480526738.76,531516964.96,497463317.18,412181178.95,467693053.44]\n",
        "streams = [385224029050,370136667024,372000610901,359966917517,368003578393,388130163016,375029360636,100180892198,385224029050,113404310347,125438003732,117401342855,97274758232,110375560612]\n",
        "\n",
        "# Realizar el test de Wilcoxon\n",
        "stat, p = wilcoxon(promedios_cat, streams)\n",
        "\n",
        "print('Estadístico de la prueba:', stat)\n",
        "print('Valor p:', p)"
      ],
      "metadata": {
        "colab": {
          "base_uri": "https://localhost:8080/"
        },
        "id": "UOU0YUBXAptc",
        "outputId": "7a9c3e08-ca36-4009-b43d-8daef2f73136"
      },
      "execution_count": 8,
      "outputs": [
        {
          "output_type": "stream",
          "name": "stdout",
          "text": [
            "Estadístico de la prueba: 0.0\n",
            "Valor p: 0.0001220703125\n"
          ]
        }
      ]
    },
    {
      "cell_type": "markdown",
      "source": [
        "Interpretación de los resultados:\n",
        "Estadístico de la prueba de 0.0: Esto sugiere que las diferencias absolutas entre los pares de datos son muy pequeñas, lo que indica que los valores de promedios_cat son consistentemente menores que los valores correspondientes en streams.\n",
        "\n",
        "Valor p de 0.0001220703125: Este valor es muy pequeño y menor que 0.05, lo que indica que hay suficiente evidencia para rechazar la hipótesis nula. Esto sugiere que hay una diferencia significativa entre los promedios de las categorías y los streams.\n",
        "\n",
        "Conclusión:\n",
        "Dado que el valor p es muy bajo, puedes concluir que hay una diferencia significativa entre los promedios de todas las categorías y los streams. Esto significa que los dos conjuntos de datos no provienen de la misma distribución y que la diferencia observada entre ellos no es debida al azar.\n",
        "\n",
        "\n"
      ],
      "metadata": {
        "id": "2xa47EUHC6gf"
      }
    },
    {
      "cell_type": "markdown",
      "source": [
        "Test T\n",
        "Cargar paquetes y datos"
      ],
      "metadata": {
        "id": "MiSrKgpKFHLS"
      }
    },
    {
      "cell_type": "code",
      "source": [
        "import pandas as pd\n",
        "import numpy as np\n",
        "from scipy.stats import ttest_rel"
      ],
      "metadata": {
        "id": "AYjNn_zBFOx6"
      },
      "execution_count": 9,
      "outputs": []
    },
    {
      "cell_type": "markdown",
      "source": [
        "Paso 1: Definir Hipotesis H0: Hipotesis Nula-- Las diferencia de streams promedio en la categorias son estadisticamente iguales. H1: Hipotesis Alternativa-- La diferencia de streams promedio en la categorias son significativamente diferentes."
      ],
      "metadata": {
        "id": "_ZvkEelLFdF3"
      }
    },
    {
      "cell_type": "markdown",
      "source": [
        "Paso 2:Elegimos el nivel de confianza que nos da el alfa NC= 95%"
      ],
      "metadata": {
        "id": "HdqxavhmFi67"
      }
    },
    {
      "cell_type": "code",
      "source": [
        "alfa= 0.05"
      ],
      "metadata": {
        "id": "sk79kCbeFolZ"
      },
      "execution_count": 10,
      "outputs": []
    },
    {
      "cell_type": "markdown",
      "source": [
        "Paso 3: Calcular el pvalor segun el estadistico de contraste (Test-T)"
      ],
      "metadata": {
        "id": "jCIAwG5QFtpI"
      }
    },
    {
      "cell_type": "code",
      "source": [
        "promedio_alto = [\n",
        "    424495305.92, 488424806.03, 480526738.76, 531516964.96,\n",
        "    497463317.18, 412181178.95, 467693053.44\n",
        "]\n",
        "total_streams = [\n",
        "    100180892198, 385224029050, 113404310347, 125438003732,\n",
        "    117401342855, 97274758232, 110375560612\n",
        "]\n",
        "\n",
        "# Realizar el test t para muestras emparejadas\n",
        "stat, p = ttest_rel(promedio_alto, total_streams)\n",
        "\n",
        "print('Estadístico de la prueba:', stat)\n",
        "print('Valor p:', p)"
      ],
      "metadata": {
        "colab": {
          "base_uri": "https://localhost:8080/"
        },
        "id": "dF_bDIhzHOwM",
        "outputId": "7cc0a75e-e792-4662-90cb-96a11aa4cee8"
      },
      "execution_count": 12,
      "outputs": [
        {
          "output_type": "stream",
          "name": "stdout",
          "text": [
            "Estadístico de la prueba: -3.793916139750271\n",
            "Valor p: 0.009031872476726651\n"
          ]
        }
      ]
    },
    {
      "cell_type": "markdown",
      "source": [
        "Interpretación:\n",
        "Estadístico de la prueba t de -3.793916139750271: Este valor indica que hay una diferencia significativa entre las dos muestras. Un valor negativo sugiere que los valores de promedio_alto tienden a ser menores que los valores correspondientes en total_streams.\n",
        "\n",
        "Valor p de 0.009031872476726651: Este valor es menor que el umbral común de significancia de 0.05, lo que indica que hay suficiente evidencia para rechazar la hipótesis nula. Esto sugiere que las diferencias observadas entre las dos muestras no son debidas al azar.\n",
        "\n",
        "Conclusión:\n",
        "Dado que el valor p es menor que 0.05, puedes concluir que hay una diferencia significativa entre el promedio alto de todas las categorías y el total de streams. Esto significa que los dos conjuntos de datos no provienen de la misma distribución y que la diferencia observada entre ellos es estadísticamente significativa.\n",
        "\n",
        "En resumen, los resultados de la prueba t indican que las diferencias entre promedio_alto y total_streams son significativas y no pueden atribuirse al azar.\n",
        "\n",
        "\n",
        "\n",
        "\n",
        "\n",
        "\n"
      ],
      "metadata": {
        "id": "41RL2_V7Hi6G"
      }
    },
    {
      "cell_type": "code",
      "source": [
        "promedio_bajo = [\n",
        "        544101735.95,522791902.58,525424591.67,508427849.60,\n",
        "        519779065.53,548206444.94,529702486.77\n",
        "]\n",
        "total_streams = [\n",
        "        385224029050,370136667024,372000610901,359966917517,\n",
        "        368003578393,388130163016,375029360636\n",
        "]\n",
        "# Realizar el test t para muestras emparejadas\n",
        "stat, p = ttest_rel(promedio_alto, total_streams)\n",
        "\n",
        "print('Estadístico de la prueba:', stat)\n",
        "print('Valor p:', p)"
      ],
      "metadata": {
        "colab": {
          "base_uri": "https://localhost:8080/"
        },
        "id": "_lHMinI2Hpms",
        "outputId": "122ab434-619c-4cf9-e1f7-03be950c7a34"
      },
      "execution_count": 13,
      "outputs": [
        {
          "output_type": "stream",
          "name": "stdout",
          "text": [
            "Estadístico de la prueba: -100.242496270999\n",
            "Valor p: 6.642201159586205e-11\n"
          ]
        }
      ]
    },
    {
      "cell_type": "markdown",
      "source": [
        "Estadístico de la prueba t: -100.242496270999\n",
        "\n",
        "Este valor extremadamente alto en magnitud y negativo indica que hay una diferencia muy significativa entre las dos muestras. Un valor negativo sugiere que los valores de la primera muestra (en este caso, promedio_alto) tienden a ser mucho menores que los valores correspondientes en la segunda muestra (en este caso, total_streams).\n",
        "Valor p: 6.642201159586205e-11\n",
        "\n",
        "Este valor p es extremadamente pequeño, mucho menor que cualquier umbral de significancia comúnmente usado (por ejemplo, 0.05, 0.01 o incluso 0.001). Un valor p tan pequeño indica que la probabilidad de obtener una diferencia tan extrema entre las muestras por azar es casi inexistente.\n",
        "Conclusión:\n",
        "Dado que el valor p es mucho menor que 0.05, puedes concluir que hay una diferencia extremadamente significativa entre las dos muestras. Esto significa que los dos conjuntos de datos (promedio_alto y total_streams) no provienen de la misma distribución y que la diferencia observada entre ellos no es debida al azar.\n",
        "\n",
        "Interpretación detallada:\n",
        "La magnitud del estadístico de la prueba t (en este caso, -100.242496270999) refleja la magnitud de las diferencias observadas entre las dos muestras. Un valor tan alto sugiere una diferencia muy marcada.\n",
        "El signo negativo del estadístico indica que los valores de la primera muestra (promedio_alto) son consistentemente menores que los valores correspondientes en la segunda muestra (total_streams).\n",
        "El valor p extremadamente bajo refuerza la conclusión de que la diferencia observada es altamente significativa y no puede atribuirse al azar.\n",
        "En resumen, estos resultados indican una diferencia altamente significativa y consistente entre los dos conjuntos de datos, con promedio_alto siendo considerablemente menor que total_streams."
      ],
      "metadata": {
        "id": "SgA4tvuUI9ah"
      }
    },
    {
      "cell_type": "code",
      "source": [
        "promedios_cat = [\n",
        "    544101735.95, 522791902.58, 525424591.67, 508427849.60, 519779065.53,\n",
        "    548206444.94, 529702486.77, 424495305.92, 488424806.03, 480526738.76,\n",
        "    531516964.96, 497463317.18, 412181178.95, 467693053.44\n",
        "]\n",
        "streams = [\n",
        "    385224029050, 370136667024, 372000610901, 359966917517, 368003578393,\n",
        "    388130163016, 375029360636, 100180892198, 385224029050, 113404310347,\n",
        "    125438003732, 117401342855, 97274758232, 110375560612\n",
        "]\n",
        "\n",
        "# Realizar el test t para muestras emparejadas\n",
        "stat, p = ttest_rel(promedios_cat, streams)\n",
        "\n",
        "print('Estadístico de la prueba:', stat)\n",
        "print('Valor p:', p)"
      ],
      "metadata": {
        "colab": {
          "base_uri": "https://localhost:8080/"
        },
        "id": "ZOByeZI8F04v",
        "outputId": "44ea0145-eff9-4ddc-c2f2-3000670f2695"
      },
      "execution_count": 11,
      "outputs": [
        {
          "output_type": "stream",
          "name": "stdout",
          "text": [
            "Estadístico de la prueba: -7.177967943583055\n",
            "Valor p: 7.176319351589879e-06\n"
          ]
        }
      ]
    },
    {
      "cell_type": "markdown",
      "source": [
        "Interpretación de los resultados:\n",
        "Estadístico de la prueba t: Indica la magnitud de las diferencias observadas entre las dos muestras. Un valor más alto indica diferencias más significativas.\n",
        "Valor p: Indica la probabilidad de observar las diferencias obtenidas entre las dos muestras si la hipótesis nula fuera verdadera. Un valor p bajo (por ejemplo, menor que 0.05) sugiere que las diferencias observadas no son debidas al azar.\n",
        "Voy a ejecutar el código para obtener el estadístico de la prueba y el valor p.\n",
        "\n",
        "Los resultados de la prueba t para muestras emparejadas son los siguientes:\n",
        "\n",
        "Estadístico de la prueba t: -7.177967943583055\n",
        "Valor p: 7.176319351589879e-06\n",
        "\n",
        "Interpretación de los resultados:\n",
        "Estadístico de la prueba t de -7.177967943583055: Este valor indica que hay una diferencia significativa entre las dos muestras. Un valor negativo sugiere que los valores de promedios_cat tienden a ser menores que los valores correspondientes en streams.\n",
        "\n",
        "Valor p de 7.176319351589879e-06: Este valor es extremadamente pequeño y mucho menor que 0.05, lo que indica que hay suficiente evidencia para rechazar la hipótesis nula. Esto sugiere que las diferencias observadas entre las dos muestras no son debidas al azar.\n",
        "\n",
        "Conclusión:\n",
        "Dado que el valor p es extremadamente bajo, puedes concluir que hay una diferencia significativa entre los promedios de todas las categorías y los streams. Esto significa que los dos conjuntos de datos no provienen de la misma distribución y que la diferencia observada entre ellos es estadísticamente significativa."
      ],
      "metadata": {
        "id": "uhNyYzLpGOcW"
      }
    }
  ]
}